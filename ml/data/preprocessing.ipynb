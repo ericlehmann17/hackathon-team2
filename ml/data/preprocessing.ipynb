{
 "cells": [
  {
   "cell_type": "markdown",
   "metadata": {},
   "source": [
    "# Preprocessing the Data\n",
    "\n",
    "This notebook is showed to both run and demonstrate the preprocessing on the raw mock data. The goal is to apply one hot encoding to all of the categorical attributes, process the list attributes, and apply normalization to the numerical features. It will then create a train/test split based on the ratio specified (default is 80% train, 20% test)."
   ]
  },
  {
   "cell_type": "code",
   "execution_count": null,
   "metadata": {},
   "outputs": [],
   "source": [
    "import pandas as pd\n",
    "from sklearn.model_selection import train_test_split\n"
   ]
  }
 ],
 "metadata": {
  "language_info": {
   "name": "python"
  },
  "orig_nbformat": 4
 },
 "nbformat": 4,
 "nbformat_minor": 2
}
