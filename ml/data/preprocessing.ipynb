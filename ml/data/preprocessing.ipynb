{
 "cells": [
  {
   "cell_type": "markdown",
   "metadata": {},
   "source": [
    "# Preprocessing the Data\n",
    "\n",
    "This notebook is showed to both run and demonstrate the preprocessing on the raw mock data. The goal is to apply one hot encoding to all of the categorical attributes, process the list attributes, and apply normalization to the numerical features. It will then create a train/test split based on the ratio specified (default is 80% train, 20% test)."
   ]
  },
  {
   "cell_type": "markdown",
   "metadata": {},
   "source": [
    "Let's import our requirements first:"
   ]
  },
  {
   "cell_type": "code",
   "execution_count": 2,
   "metadata": {},
   "outputs": [],
   "source": [
    "import pandas as pd\n",
    "from sklearn.model_selection import train_test_split"
   ]
  },
  {
   "cell_type": "markdown",
   "metadata": {},
   "source": [
    "## Raw Data"
   ]
  },
  {
   "cell_type": "code",
   "execution_count": 3,
   "metadata": {},
   "outputs": [
    {
     "data": {
      "text/html": [
       "<div>\n",
       "<style scoped>\n",
       "    .dataframe tbody tr th:only-of-type {\n",
       "        vertical-align: middle;\n",
       "    }\n",
       "\n",
       "    .dataframe tbody tr th {\n",
       "        vertical-align: top;\n",
       "    }\n",
       "\n",
       "    .dataframe thead th {\n",
       "        text-align: right;\n",
       "    }\n",
       "</style>\n",
       "<table border=\"1\" class=\"dataframe\">\n",
       "  <thead>\n",
       "    <tr style=\"text-align: right;\">\n",
       "      <th></th>\n",
       "      <th>Role</th>\n",
       "      <th>Hourly/Salary</th>\n",
       "      <th># of Badges</th>\n",
       "      <th>Badges</th>\n",
       "      <th>Years at Company</th>\n",
       "      <th>Visited page</th>\n",
       "    </tr>\n",
       "  </thead>\n",
       "  <tbody>\n",
       "    <tr>\n",
       "      <th>0</th>\n",
       "      <td>Scrum Master</td>\n",
       "      <td>Salary</td>\n",
       "      <td>2</td>\n",
       "      <td>Agile Master, Jira Master</td>\n",
       "      <td>3</td>\n",
       "      <td>2</td>\n",
       "    </tr>\n",
       "    <tr>\n",
       "      <th>1</th>\n",
       "      <td>Software Engineer</td>\n",
       "      <td>Salary</td>\n",
       "      <td>1</td>\n",
       "      <td>Microservices</td>\n",
       "      <td>2</td>\n",
       "      <td>4</td>\n",
       "    </tr>\n",
       "    <tr>\n",
       "      <th>2</th>\n",
       "      <td>Data Analyst</td>\n",
       "      <td>Salary</td>\n",
       "      <td>2</td>\n",
       "      <td>Data Visualization, Banking Foundations</td>\n",
       "      <td>4</td>\n",
       "      <td>1</td>\n",
       "    </tr>\n",
       "    <tr>\n",
       "      <th>3</th>\n",
       "      <td>Innovation Manager</td>\n",
       "      <td>Salary</td>\n",
       "      <td>3</td>\n",
       "      <td>Innovation Manager</td>\n",
       "      <td>5</td>\n",
       "      <td>3</td>\n",
       "    </tr>\n",
       "    <tr>\n",
       "      <th>4</th>\n",
       "      <td>Cloud Engineer</td>\n",
       "      <td>Salary</td>\n",
       "      <td>1</td>\n",
       "      <td>AWS Apprentice</td>\n",
       "      <td>4</td>\n",
       "      <td>2</td>\n",
       "    </tr>\n",
       "    <tr>\n",
       "      <th>...</th>\n",
       "      <td>...</td>\n",
       "      <td>...</td>\n",
       "      <td>...</td>\n",
       "      <td>...</td>\n",
       "      <td>...</td>\n",
       "      <td>...</td>\n",
       "    </tr>\n",
       "    <tr>\n",
       "      <th>101</th>\n",
       "      <td>Cloud Engineer</td>\n",
       "      <td>Salary</td>\n",
       "      <td>3</td>\n",
       "      <td>AWS Apprentice, Jira Master, Microservices</td>\n",
       "      <td>4</td>\n",
       "      <td>3</td>\n",
       "    </tr>\n",
       "    <tr>\n",
       "      <th>102</th>\n",
       "      <td>Scrum Master</td>\n",
       "      <td>Salary</td>\n",
       "      <td>1</td>\n",
       "      <td>Agile Master</td>\n",
       "      <td>3</td>\n",
       "      <td>2</td>\n",
       "    </tr>\n",
       "    <tr>\n",
       "      <th>103</th>\n",
       "      <td>HR Associate</td>\n",
       "      <td>Salary</td>\n",
       "      <td>2</td>\n",
       "      <td>HR Associate, Jira Master</td>\n",
       "      <td>5</td>\n",
       "      <td>1</td>\n",
       "    </tr>\n",
       "    <tr>\n",
       "      <th>104</th>\n",
       "      <td>Software Engineer</td>\n",
       "      <td>Hourly</td>\n",
       "      <td>4</td>\n",
       "      <td>Microservices, Secure Dev, Jira Master, Risk M...</td>\n",
       "      <td>4</td>\n",
       "      <td>3</td>\n",
       "    </tr>\n",
       "    <tr>\n",
       "      <th>105</th>\n",
       "      <td>CBEX Associate</td>\n",
       "      <td>Hourly</td>\n",
       "      <td>2</td>\n",
       "      <td>Banking Foundations, Microservices</td>\n",
       "      <td>2</td>\n",
       "      <td>2</td>\n",
       "    </tr>\n",
       "  </tbody>\n",
       "</table>\n",
       "<p>106 rows × 6 columns</p>\n",
       "</div>"
      ],
      "text/plain": [
       "                   Role Hourly/Salary  # of Badges  \\\n",
       "0          Scrum Master        Salary            2   \n",
       "1     Software Engineer        Salary            1   \n",
       "2          Data Analyst        Salary            2   \n",
       "3    Innovation Manager        Salary            3   \n",
       "4        Cloud Engineer        Salary            1   \n",
       "..                  ...           ...          ...   \n",
       "101      Cloud Engineer        Salary            3   \n",
       "102        Scrum Master        Salary            1   \n",
       "103        HR Associate        Salary            2   \n",
       "104   Software Engineer        Hourly            4   \n",
       "105      CBEX Associate        Hourly            2   \n",
       "\n",
       "                                                Badges  Years at Company  \\\n",
       "0                            Agile Master, Jira Master                 3   \n",
       "1                                        Microservices                 2   \n",
       "2              Data Visualization, Banking Foundations                 4   \n",
       "3                                   Innovation Manager                 5   \n",
       "4                                       AWS Apprentice                 4   \n",
       "..                                                 ...               ...   \n",
       "101         AWS Apprentice, Jira Master, Microservices                 4   \n",
       "102                                       Agile Master                 3   \n",
       "103                          HR Associate, Jira Master                 5   \n",
       "104  Microservices, Secure Dev, Jira Master, Risk M...                 4   \n",
       "105                 Banking Foundations, Microservices                 2   \n",
       "\n",
       "     Visited page  \n",
       "0               2  \n",
       "1               4  \n",
       "2               1  \n",
       "3               3  \n",
       "4               2  \n",
       "..            ...  \n",
       "101             3  \n",
       "102             2  \n",
       "103             1  \n",
       "104             3  \n",
       "105             2  \n",
       "\n",
       "[106 rows x 6 columns]"
      ]
     },
     "execution_count": 3,
     "metadata": {},
     "output_type": "execute_result"
    }
   ],
   "source": [
    "df = pd.read_csv(\"raw/HackathonMockDataDraft.csv\")\n",
    "\n",
    "df"
   ]
  },
  {
   "cell_type": "markdown",
   "metadata": {},
   "source": [
    "## Normalize Numeric Attributes"
   ]
  },
  {
   "cell_type": "code",
   "execution_count": null,
   "metadata": {},
   "outputs": [],
   "source": [
    "# TODO"
   ]
  },
  {
   "cell_type": "markdown",
   "metadata": {},
   "source": [
    "## One Hot Encoding"
   ]
  },
  {
   "cell_type": "code",
   "execution_count": null,
   "metadata": {},
   "outputs": [],
   "source": [
    "# TODO"
   ]
  },
  {
   "cell_type": "markdown",
   "metadata": {},
   "source": [
    "## Train/Test Split"
   ]
  },
  {
   "cell_type": "code",
   "execution_count": null,
   "metadata": {},
   "outputs": [],
   "source": [
    "# TODO"
   ]
  }
 ],
 "metadata": {
  "kernelspec": {
   "display_name": "Python 3",
   "language": "python",
   "name": "python3"
  },
  "language_info": {
   "codemirror_mode": {
    "name": "ipython",
    "version": 3
   },
   "file_extension": ".py",
   "mimetype": "text/x-python",
   "name": "python",
   "nbconvert_exporter": "python",
   "pygments_lexer": "ipython3",
   "version": "3.9.12"
  },
  "orig_nbformat": 4
 },
 "nbformat": 4,
 "nbformat_minor": 2
}
